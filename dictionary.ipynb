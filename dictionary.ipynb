{
 "cells": [
  {
   "attachments": {},
   "cell_type": "markdown",
   "metadata": {},
   "source": [
    "###dictionary\n",
    "-ordered\n",
    "-mutable\n",
    "-hetrogenous\n",
    "-data stored in key value pairs\n",
    " -keys are always imutable and unique\n",
    " -value can be mutable and imutable and can be duplicate can have any type\n",
    "-unidexed\n",
    "-represented by '{}'\n",
    "-dict() 'it is a function'--that can take key value pair as argument"
   ]
  },
  {
   "cell_type": "code",
   "execution_count": 146,
   "metadata": {},
   "outputs": [],
   "source": [
    "#create dictionary\n",
    "fruits = {\n",
    "    \"apple\" : 2,\n",
    "    \"banana\":4,\n",
    "    \"orange\" : 5,\n",
    "}"
   ]
  },
  {
   "cell_type": "code",
   "execution_count": 147,
   "metadata": {},
   "outputs": [],
   "source": [
    "grocery = {\n",
    "    'fruits':['apple','banana','orange'],\n",
    "    'vegetables':['potato','carrot'],\n",
    "    'meat': None\n",
    "}"
   ]
  },
  {
   "cell_type": "code",
   "execution_count": 148,
   "metadata": {},
   "outputs": [
    {
     "name": "stdout",
     "output_type": "stream",
     "text": [
      "{'apple': 2, 'banana': 4, 'orange': 5}\n",
      "{'fruits': ['apple', 'banana', 'orange'], 'vegetables': ['potato', 'carrot'], 'meat': None}\n"
     ]
    }
   ],
   "source": [
    "print(fruits)\n",
    "print(grocery)"
   ]
  },
  {
   "cell_type": "code",
   "execution_count": 149,
   "metadata": {},
   "outputs": [],
   "source": [
    "from pprint import pp"
   ]
  },
  {
   "cell_type": "code",
   "execution_count": 150,
   "metadata": {},
   "outputs": [
    {
     "name": "stdout",
     "output_type": "stream",
     "text": [
      "{'apple': 2, 'banana': 4, 'orange': 5}\n"
     ]
    }
   ],
   "source": [
    "pp(fruits)"
   ]
  },
  {
   "cell_type": "code",
   "execution_count": 151,
   "metadata": {},
   "outputs": [
    {
     "name": "stdout",
     "output_type": "stream",
     "text": [
      "{'fruits': ['apple', 'banana', 'orange'],\n",
      " 'vegetables': ['potato', 'carrot'],\n",
      " 'meat': None}\n"
     ]
    }
   ],
   "source": [
    "pp(grocery)"
   ]
  },
  {
   "cell_type": "code",
   "execution_count": 152,
   "metadata": {},
   "outputs": [],
   "source": [
    "# fetch\n",
    "# updating\n",
    "# adding\n",
    "# deleting\n"
   ]
  },
  {
   "cell_type": "code",
   "execution_count": 153,
   "metadata": {},
   "outputs": [
    {
     "data": {
      "text/plain": [
       "2"
      ]
     },
     "execution_count": 153,
     "metadata": {},
     "output_type": "execute_result"
    }
   ],
   "source": [
    "fruits['apple']#data retrieve value from dictionary"
   ]
  },
  {
   "cell_type": "code",
   "execution_count": 154,
   "metadata": {},
   "outputs": [
    {
     "name": "stdout",
     "output_type": "stream",
     "text": [
      "{'apple': 10, 'banana': 4, 'orange': 5}\n"
     ]
    }
   ],
   "source": [
    "fruits['apple'] = 10 #update value in dictionary\n",
    "pp(fruits)"
   ]
  },
  {
   "cell_type": "code",
   "execution_count": 155,
   "metadata": {},
   "outputs": [
    {
     "name": "stdout",
     "output_type": "stream",
     "text": [
      "{'apple': 10, 'banana': 4, 'orange': 5, 'mango': 25}\n"
     ]
    }
   ],
   "source": [
    "fruits['mango'] = 25 # add new value into the dictionary\n",
    "pp(fruits)"
   ]
  },
  {
   "cell_type": "code",
   "execution_count": 156,
   "metadata": {},
   "outputs": [
    {
     "name": "stdout",
     "output_type": "stream",
     "text": [
      "{'fruits': ['apple', 'banana', 'orange'],\n",
      " 'vegetables': ['potato', 'carrot'],\n",
      " 'meat': None,\n",
      " 'spices': ['cumin', 'corriender', 'turmeric']}\n"
     ]
    }
   ],
   "source": [
    "grocery['spices']=['cumin','corriender','turmeric']\n",
    "pp(grocery)"
   ]
  },
  {
   "cell_type": "code",
   "execution_count": 157,
   "metadata": {},
   "outputs": [
    {
     "name": "stdout",
     "output_type": "stream",
     "text": [
      "{'fruits': ['apple', 'banana', 'orange', 'mango'],\n",
      " 'vegetables': ['potato', 'carrot'],\n",
      " 'meat': None,\n",
      " 'spices': ['cumin', 'corriender', 'turmeric']}\n"
     ]
    }
   ],
   "source": [
    "grocery['fruits'].append('mango')# add new value in list\n",
    "pp(grocery)"
   ]
  },
  {
   "cell_type": "code",
   "execution_count": 158,
   "metadata": {},
   "outputs": [],
   "source": [
    "reports ={\n",
    "    'rajesh' : {\n",
    "        'english':90,\n",
    "        'maths': 80,\n",
    "        'science':56,    }\n",
    "}"
   ]
  },
  {
   "cell_type": "code",
   "execution_count": 159,
   "metadata": {},
   "outputs": [
    {
     "name": "stdout",
     "output_type": "stream",
     "text": [
      "{'rajesh': {'english': 90, 'maths': 80, 'science': 56, 'EVS': 99}}\n"
     ]
    }
   ],
   "source": [
    "reports['rajesh']['EVS']=99\n",
    "pp(reports)\n"
   ]
  },
  {
   "cell_type": "code",
   "execution_count": 160,
   "metadata": {},
   "outputs": [
    {
     "data": {
      "text/plain": [
       "4"
      ]
     },
     "execution_count": 160,
     "metadata": {},
     "output_type": "execute_result"
    }
   ],
   "source": [
    "fruits.pop('banana')#remove key-value pair from dictionaty"
   ]
  },
  {
   "cell_type": "code",
   "execution_count": 161,
   "metadata": {},
   "outputs": [
    {
     "name": "stdout",
     "output_type": "stream",
     "text": [
      "{'fruits': ['apple', 'banana', 'orange', 'mango'],\n",
      " 'vegetables': ['potato', 'carrot'],\n",
      " 'meat': None,\n",
      " 'spices': ['cumin', 'corriender', 'turmeric']}\n"
     ]
    }
   ],
   "source": [
    "pp(grocery)"
   ]
  },
  {
   "cell_type": "code",
   "execution_count": 162,
   "metadata": {},
   "outputs": [
    {
     "name": "stdout",
     "output_type": "stream",
     "text": [
      "{'fruits': ['apple', 'banana', 'orange', 'mango'],\n",
      " 'vegetables': ['potato'],\n",
      " 'meat': None,\n",
      " 'spices': ['cumin', 'corriender', 'turmeric']}\n"
     ]
    }
   ],
   "source": [
    "grocery['vegetables'].remove('carrot')#remove value from list\n",
    "pp(grocery)"
   ]
  },
  {
   "cell_type": "code",
   "execution_count": 163,
   "metadata": {},
   "outputs": [
    {
     "data": {
      "text/plain": [
       "dict_keys(['apple', 'orange', 'mango'])"
      ]
     },
     "execution_count": 163,
     "metadata": {},
     "output_type": "execute_result"
    }
   ],
   "source": [
    "fruits.keys() # get all keys from dictonary"
   ]
  },
  {
   "cell_type": "code",
   "execution_count": 164,
   "metadata": {},
   "outputs": [
    {
     "data": {
      "text/plain": [
       "dict_values([10, 5, 25])"
      ]
     },
     "execution_count": 164,
     "metadata": {},
     "output_type": "execute_result"
    }
   ],
   "source": [
    "fruits.values()# get all values from dictionary"
   ]
  },
  {
   "cell_type": "code",
   "execution_count": 165,
   "metadata": {},
   "outputs": [
    {
     "data": {
      "text/plain": [
       "dict_items([('apple', 10), ('orange', 5), ('mango', 25)])"
      ]
     },
     "execution_count": 165,
     "metadata": {},
     "output_type": "execute_result"
    }
   ],
   "source": [
    "fruits.items()# get all key and  value from dictionary"
   ]
  },
  {
   "cell_type": "code",
   "execution_count": 166,
   "metadata": {},
   "outputs": [],
   "source": [
    "# traversal\n"
   ]
  },
  {
   "cell_type": "code",
   "execution_count": 167,
   "metadata": {},
   "outputs": [
    {
     "name": "stdout",
     "output_type": "stream",
     "text": [
      "apple 10\n",
      "orange 5\n",
      "mango 25\n"
     ]
    }
   ],
   "source": [
    "for k,v in fruits.items():\n",
    "    print(k,v)"
   ]
  },
  {
   "cell_type": "code",
   "execution_count": 168,
   "metadata": {},
   "outputs": [
    {
     "data": {
      "text/plain": [
       "90"
      ]
     },
     "execution_count": 168,
     "metadata": {},
     "output_type": "execute_result"
    }
   ],
   "source": [
    "reports['rajesh']['english']"
   ]
  },
  {
   "cell_type": "code",
   "execution_count": 169,
   "metadata": {},
   "outputs": [
    {
     "data": {
      "text/plain": [
       "{'english': 90, 'maths': 80, 'science': 56, 'EVS': 99}"
      ]
     },
     "execution_count": 169,
     "metadata": {},
     "output_type": "execute_result"
    }
   ],
   "source": [
    "reports.get('rajesh')"
   ]
  },
  {
   "cell_type": "code",
   "execution_count": 170,
   "metadata": {},
   "outputs": [
    {
     "data": {
      "text/plain": [
       "'ata nai tha'"
      ]
     },
     "execution_count": 170,
     "metadata": {},
     "output_type": "execute_result"
    }
   ],
   "source": [
    "reports.get('suresh', 'ata nai tha')\n"
   ]
  },
  {
   "cell_type": "code",
   "execution_count": 171,
   "metadata": {},
   "outputs": [
    {
     "data": {
      "text/plain": [
       "{'english': 90, 'maths': 80, 'science': 56, 'EVS': 99}"
      ]
     },
     "execution_count": 171,
     "metadata": {},
     "output_type": "execute_result"
    }
   ],
   "source": [
    "reports.get('rajesh', 'ata nai tha')"
   ]
  },
  {
   "cell_type": "code",
   "execution_count": 172,
   "metadata": {},
   "outputs": [],
   "source": [
    "reports['shubhi'] ={\n",
    "    \"english\": 90,\n",
    "    \"maths\": 80,\n",
    "    \"science\":78}"
   ]
  },
  {
   "cell_type": "code",
   "execution_count": 173,
   "metadata": {},
   "outputs": [
    {
     "name": "stdout",
     "output_type": "stream",
     "text": [
      "rajesh\n",
      "90 in english\n",
      "80 in maths\n",
      "56 in science\n",
      "99 in EVS\n",
      "------------------------------\n",
      "shubhi\n",
      "90 in english\n",
      "80 in maths\n",
      "78 in science\n",
      "------------------------------\n"
     ]
    }
   ],
   "source": [
    "for student, details in reports.items():\n",
    "    print(student)\n",
    "    for subject, marks in details.items():\n",
    "        print(f'{marks} in {subject}')\n",
    "    print('---' *10)"
   ]
  },
  {
   "cell_type": "code",
   "execution_count": 174,
   "metadata": {},
   "outputs": [],
   "source": [
    "# create a dictionary of 5 employee with details\n",
    "employee ={\n",
    "      \"e1\":{\n",
    "        'name': 'vaibhav',\n",
    "        'departent':'hr',\n",
    "        'salary':10000,\n",
    "        'skills':['communication','management'],\n",
    "        'projects':{\n",
    "            'project 1':{\n",
    "                'project_name':'hrms',\n",
    "                'project_duration': 6,\n",
    "                'project_technology':['excel','power bi']\n",
    "            }\n",
    "        }\n",
    "    \n",
    "    }, 'e2':{\n",
    "        'name':\"shubhi\",\n",
    "        \"department\":\"mca\",\n",
    "        \"salary\":20000,\n",
    "        \"skills\":[\"c\",\"java\"]\n",
    "    }\n",
    "    }"
   ]
  },
  {
   "cell_type": "code",
   "execution_count": 175,
   "metadata": {},
   "outputs": [
    {
     "name": "stdout",
     "output_type": "stream",
     "text": [
      "{'e1': {'name': 'vaibhav',\n",
      "        'departent': 'hr',\n",
      "        'salary': 10000,\n",
      "        'skills': ['communication', 'management'],\n",
      "        'projects': {'project 1': {'project_name': 'hrms',\n",
      "                                   'project_duration': 6,\n",
      "                                   'project_technology': ['excel',\n",
      "                                                          'power bi']}}},\n",
      " 'e2': {'name': 'shubhi',\n",
      "        'department': 'mca',\n",
      "        'salary': 20000,\n",
      "        'skills': ['c', 'java']}}\n"
     ]
    }
   ],
   "source": [
    "pp(employee)"
   ]
  },
  {
   "cell_type": "code",
   "execution_count": null,
   "metadata": {},
   "outputs": [],
   "source": []
  }
 ],
 "metadata": {
  "kernelspec": {
   "display_name": "base",
   "language": "python",
   "name": "python3"
  },
  "language_info": {
   "codemirror_mode": {
    "name": "ipython",
    "version": 3
   },
   "file_extension": ".py",
   "mimetype": "text/x-python",
   "name": "python",
   "nbconvert_exporter": "python",
   "pygments_lexer": "ipython3",
   "version": "3.10.9"
  },
  "orig_nbformat": 4
 },
 "nbformat": 4,
 "nbformat_minor": 2
}
